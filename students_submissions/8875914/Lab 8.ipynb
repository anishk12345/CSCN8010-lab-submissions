{
 "cells": [
  {
   "cell_type": "code",
   "execution_count": 7,
   "id": "33dea7d9",
   "metadata": {},
   "outputs": [],
   "source": [
    "import torch\n",
    "import tensorflow as tf"
   ]
  },
  {
   "cell_type": "markdown",
   "id": "48ee4db9",
   "metadata": {},
   "source": [
    "## For Torch"
   ]
  },
  {
   "cell_type": "code",
   "execution_count": 3,
   "id": "3eb2aba4",
   "metadata": {},
   "outputs": [],
   "source": [
    "x = torch.tensor([1., 3., 8.])\n",
    "y = torch.tensor([-4., 6., -2.])"
   ]
  },
  {
   "cell_type": "code",
   "execution_count": 4,
   "id": "536304af",
   "metadata": {},
   "outputs": [
    {
     "data": {
      "text/plain": [
       "tensor(-2.)"
      ]
     },
     "execution_count": 4,
     "metadata": {},
     "output_type": "execute_result"
    }
   ],
   "source": [
    "# Calculating the DOT Product\n",
    "x.dot(y)\n"
   ]
  },
  {
   "cell_type": "code",
   "execution_count": 6,
   "id": "111024fe",
   "metadata": {},
   "outputs": [
    {
     "data": {
      "text/plain": [
       "tensor([[ 76, 200],\n",
       "        [276, 760]])"
      ]
     },
     "execution_count": 6,
     "metadata": {},
     "output_type": "execute_result"
    }
   ],
   "source": [
    "# Matrix multiplication of 2 D matrix\n",
    "a = torch.tensor([[4, 4], [12, 16]])\n",
    "b = torch.tensor([[7, 10], [12, 40]])\n",
    "torch.matmul(a,b)\n"
   ]
  },
  {
   "cell_type": "markdown",
   "id": "bea4ed00",
   "metadata": {},
   "source": [
    "## For Tensorflow"
   ]
  },
  {
   "cell_type": "code",
   "execution_count": 8,
   "id": "2fb2bb39",
   "metadata": {},
   "outputs": [],
   "source": [
    "x = tf.constant([1., 3., 8.])\n",
    "y = tf.constant([-4., 6., -2.])"
   ]
  },
  {
   "cell_type": "code",
   "execution_count": 10,
   "id": "a6dad62a",
   "metadata": {},
   "outputs": [
    {
     "data": {
      "text/plain": [
       "<tf.Tensor: shape=(), dtype=float32, numpy=-2.0>"
      ]
     },
     "execution_count": 10,
     "metadata": {},
     "output_type": "execute_result"
    }
   ],
   "source": [
    "# Calculating the DOT Product\n",
    "\n",
    "tf.reduce_sum(tf.multiply(x, y))\n"
   ]
  },
  {
   "cell_type": "code",
   "execution_count": 11,
   "id": "fba52f51",
   "metadata": {},
   "outputs": [
    {
     "data": {
      "text/plain": [
       "<tf.Tensor: shape=(2, 2), dtype=int32, numpy=\n",
       "array([[ 76, 200],\n",
       "       [276, 760]])>"
      ]
     },
     "execution_count": 11,
     "metadata": {},
     "output_type": "execute_result"
    }
   ],
   "source": [
    "# Matrix multiplication of 2 D matrix\n",
    "a = tf.constant([[4, 4], [12, 16]])\n",
    "b = tf.constant([[7, 10], [12, 40]])\n",
    "a @ b\n"
   ]
  },
  {
   "cell_type": "code",
   "execution_count": null,
   "id": "c2e073f7",
   "metadata": {},
   "outputs": [],
   "source": []
  }
 ],
 "metadata": {
  "kernelspec": {
   "display_name": "Python 3 (ipykernel)",
   "language": "python",
   "name": "python3"
  },
  "language_info": {
   "codemirror_mode": {
    "name": "ipython",
    "version": 3
   },
   "file_extension": ".py",
   "mimetype": "text/x-python",
   "name": "python",
   "nbconvert_exporter": "python",
   "pygments_lexer": "ipython3",
   "version": "3.10.9"
  }
 },
 "nbformat": 4,
 "nbformat_minor": 5
}
